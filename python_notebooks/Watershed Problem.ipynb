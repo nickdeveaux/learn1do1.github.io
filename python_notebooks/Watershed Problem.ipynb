{
 "cells": [
  {
   "cell_type": "markdown",
   "metadata": {},
   "source": [
    "# Watershed Problem"
   ]
  },
  {
   "cell_type": "markdown",
   "metadata": {},
   "source": [
    "Given a 2D surface in 3D space, find the distinct watersheds in it. \n",
    "\n",
    "In other words, if you have a three-dimensional landcsape, you want to find the different regions where all rainfall flows down to the same final location.  \n",
    "\n",
    "Your input will be a n by n matrix of integers, where the high integers denote peaks and hills while low integers denote valleys."
   ]
  },
  {
   "cell_type": "code",
   "execution_count": 25,
   "metadata": {
    "collapsed": false
   },
   "outputs": [],
   "source": [
    "heights = [[1,2,3,4],[1,2,1,0],[1,0,1,0],[0,0,1,4]]\n",
    "\n",
    "class position():\n",
    "    def __init__(self, coordinates, height):\n",
    "        self.coordinates = coordinates\n",
    "        self.height = height\n",
    "        \n",
    "    def __repr__(self):\n",
    "        return ','.join([str(self.coordinates), str(self.height)])"
   ]
  },
  {
   "cell_type": "markdown",
   "metadata": {},
   "source": [
    "To kick us off, I will draw this landscape, using a matplotlib heatmap function that shows the highest altitude in red, down to the lowest altitudes in blue:"
   ]
  },
  {
   "cell_type": "code",
   "execution_count": 26,
   "metadata": {
    "collapsed": false
   },
   "outputs": [
    {
     "data": {
      "image/png": "[encoded data removed]",
      "text/plain": [
       "<matplotlib.figure.Figure at 0x107dda250>"
      ]
     },
     "metadata": {},
     "output_type": "display_data"
    }
   ],
   "source": [
    "%matplotlib inline\n",
    "import matplotlib.pyplot as plt\n",
    "import matplotlib.dates\n",
    "plt.rcParams['figure.figsize'] = (20.0, 8.0)\n",
    "plt.figure()\n",
    "plt.imshow(heights , interpolation='nearest', cmap='jet')\n",
    "plt.title('heights')\n",
    "plt.show()"
   ]
  },
  {
   "cell_type": "markdown",
   "metadata": {},
   "source": [
    "We have to make a decision. Should the water always flow down the steepest slope? Let's assume yes, even tho it may upset Ian Malcolm from Jurassic Park:\n",
    "\n",
    " ![Chaos Theory](http://1.media.dorkly.cvcdn.com/66/53/512dcfefefe5df458f66dee088818cf4.gif)\n",
    " \n",
    " Should it pool together when the slope is 0? This describes the 3 adjacent blocks of height Zero in the heights matrix, drawn above. I'd argue yes. In order to guarantee that adjacent blocks of equal height pool together, I will initialize the slopes array to have a slope of -1. "
   ]
  },
  {
   "cell_type": "code",
   "execution_count": 27,
   "metadata": {
    "collapsed": true
   },
   "outputs": [],
   "source": [
    "watersheds = [[None] * len(heights) for x in range(len(heights))]\n",
    "slopes = [[-1] * len(heights) for x in range(len(heights))]"
   ]
  },
  {
   "cell_type": "markdown",
   "metadata": {},
   "source": [
    "The watershed matrix stores an integer for each cell. When Cells in that matrix that share the same integer, it means they belong to the same watershed.\n",
    "\n",
    "The slopes matrix stores the steepest slope that the water can flow in each cell"
   ]
  },
  {
   "cell_type": "code",
   "execution_count": 28,
   "metadata": {
    "collapsed": false
   },
   "outputs": [],
   "source": [
    "import operator\n",
    "\n",
    "def initialize_positions(heights):\n",
    "    positions = []      \n",
    "    for i in range(len(heights)):\n",
    "        for j in range(len(heights)):\n",
    "            positions.append(position((i,j), heights[i][j]))\n",
    "    positions.sort(key=operator.attrgetter('height'))\n",
    "    return positions\n",
    "\n",
    "positions = initialize_positions(heights)"
   ]
  },
  {
   "cell_type": "markdown",
   "metadata": {},
   "source": [
    "Our strategy is to sort positions from deepest to highest. Starting at the deepest, let's find all adjacent positions that would flow into it. We determine those positions by using the flow_up function. We continue this search from each of the new positions we have just moved up to, until every cell in the slopes array has been visited. "
   ]
  },
  {
   "cell_type": "code",
   "execution_count": 29,
   "metadata": {
    "collapsed": false
   },
   "outputs": [
    {
     "name": "stdout",
     "output_type": "stream",
     "text": [
      "[[1, 1, 0, 0], [1, 1, 0, 0], [1, 1, 0, 0], [1, 1, 1, 0]]\n",
      "[[0, 1, 2, 4], [0, 2, 1, 0], [1, 0, 1, 0], [0, 0, 1, 4]]\n"
     ]
    }
   ],
   "source": [
    "# Will return all neighbors where the slope to the current position is steeper than we have yet seen.\n",
    "def flow_up(heights, (i, j)):\n",
    "    up_coordinates = set()\n",
    "    neighbor_coordinates = set()\n",
    "    local_height = heights[i][j]\n",
    "    \n",
    "    # look up, down, left, right\n",
    "    neighbor_coordinates.add((max(i - 1, 0),j))\n",
    "    neighbor_coordinates.add((min(i + 1, len(heights) - 1),j))\n",
    "    neighbor_coordinates.add((i,max(j - 1, 0)))\n",
    "    neighbor_coordinates.add((i,min(j + 1, len(heights) - 1)))\n",
    "    \n",
    "    for c in neighbor_coordinates:\n",
    "        slope = heights[c[0]][c[1]] - local_height\n",
    "        if slope > slopes[c[0]][c[1]]:\n",
    "            slopes[c[0]][c[1]] = slope\n",
    "            up_coordinates.add(c)\n",
    "    return up_coordinates\n",
    "\n",
    "def main():    \n",
    "    for k, position in enumerate(positions):\n",
    "        if watersheds[position.coordinates[0]][position.coordinates[1]] == None:\n",
    "            new_coordinates = [position.coordinates]\n",
    "            while len(new_coordinates) > 0:\n",
    "                for (i, j) in new_coordinates:\n",
    "                    watersheds[i][j] = k\n",
    "                past_coordinates = list(new_coordinates)\n",
    "                new_coordinates = set()\n",
    "                for coordinates in past_coordinates:\n",
    "                    new_coordinates.update(flow_up(heights, coordinates))\n",
    "    \n",
    "main()\n",
    "print watersheds\n",
    "print slopes"
   ]
  },
  {
   "cell_type": "code",
   "execution_count": 30,
   "metadata": {
    "collapsed": false
   },
   "outputs": [
    {
     "data": {
      "text/plain": [
       "<matplotlib.text.Text at 0x108d7f310>"
      ]
     },
     "execution_count": 30,
     "metadata": {},
     "output_type": "execute_result"
    },
    {
     "data": {
      "image/png": "[encoded data removed]",
      "text/plain": [
       "<matplotlib.figure.Figure at 0x107dfdfd0>"
      ]
     },
     "metadata": {},
     "output_type": "display_data"
    },
    {
     "data": {
      "image/png": "[encoded data removed]",
      "text/plain": [
       "<matplotlib.figure.Figure at 0x107edff10>"
      ]
     },
     "metadata": {},
     "output_type": "display_data"
    },
    {
     "data": {
      "image/png": "[encoded data removed]",
      "text/plain": [
       "<matplotlib.figure.Figure at 0x108d73fd0>"
      ]
     },
     "metadata": {},
     "output_type": "display_data"
    }
   ],
   "source": [
    "plt.rcParams['figure.figsize'] = (20.0, 8.0)\n",
    "plt.figure()\n",
    "plt.imshow(heights , interpolation='nearest', cmap='jet')\n",
    "plt.title('heights')\n",
    "plt.figure()\n",
    "plt.imshow(slopes , interpolation='nearest', cmap='jet')\n",
    "plt.title('slopes')\n",
    "plt.figure()\n",
    "plt.imshow(watersheds , interpolation='nearest', cmap='jet')\n",
    "plt.title('watersheds')"
   ]
  },
  {
   "cell_type": "markdown",
   "metadata": {},
   "source": [
    "Let's do a simple test of our functions. Let's give it a landscape that looks like a wide staircase and make sure the output is just a single watershed."
   ]
  },
  {
   "cell_type": "code",
   "execution_count": 18,
   "metadata": {
    "collapsed": true
   },
   "outputs": [],
   "source": [
    "n = 10"
   ]
  },
  {
   "cell_type": "code",
   "execution_count": 20,
   "metadata": {
    "collapsed": false
   },
   "outputs": [
    {
     "data": {
      "text/plain": [
       "<matplotlib.text.Text at 0x107dd6fd0>"
      ]
     },
     "execution_count": 20,
     "metadata": {},
     "output_type": "execute_result"
    },
    {
     "data": {
      "image/png": "[encoded data removed]",
      "text/plain": [
       "<matplotlib.figure.Figure at 0x1077c29d0>"
      ]
     },
     "metadata": {},
     "output_type": "display_data"
    },
    {
     "data": {
      "image/png": "[encoded data removed]",
      "text/plain": [
       "<matplotlib.figure.Figure at 0x107ec5390>"
      ]
     },
     "metadata": {},
     "output_type": "display_data"
    },
    {
     "data": {
      "image/png": "[encoded data removed]",
      "text/plain": [
       "<matplotlib.figure.Figure at 0x107eb4e90>"
      ]
     },
     "metadata": {},
     "output_type": "display_data"
    }
   ],
   "source": [
    "heights = [[x] * n for x in range(n)]\n",
    "watersheds = [[None] * len(heights) for x in range(len(heights))]\n",
    "slopes = [[-1] * len(heights) for x in range(len(heights))]\n",
    "positions = initialize_positions(heights)\n",
    "positions.sort(key=operator.attrgetter('height'))\n",
    "main()\n",
    "plt.figure()\n",
    "plt.imshow(heights , interpolation='nearest', cmap='jet')\n",
    "plt.rcParams['figure.figsize'] = (20.0, 8.0)\n",
    "plt.title('heights')\n",
    "plt.figure()\n",
    "plt.imshow(slopes , interpolation='nearest', cmap='jet')\n",
    "plt.title('slopes')\n",
    "plt.figure()\n",
    "plt.imshow(watersheds , interpolation='nearest', cmap='jet')\n",
    "plt.title('watersheds')"
   ]
  },
  {
   "cell_type": "markdown",
   "metadata": {},
   "source": [
    "It's interesting in this single-watershed case to see how simple the slopes object becomes. Either water is spreading in a flat basin (slope of 0) or it is flowing down the staircase (slope of 1). "
   ]
  },
  {
   "cell_type": "markdown",
   "metadata": {},
   "source": [
    "Now we can showcase the watershed code on a random input landscape"
   ]
  },
  {
   "cell_type": "code",
   "execution_count": 21,
   "metadata": {
    "collapsed": true
   },
   "outputs": [],
   "source": [
    "import random\n",
    "heights = [[random.randint(0, n) for x in range(n)] for x in range(n)]"
   ]
  },
  {
   "cell_type": "code",
   "execution_count": 22,
   "metadata": {
    "collapsed": false
   },
   "outputs": [
    {
     "data": {
      "text/plain": [
       "<matplotlib.text.Text at 0x1077a6b90>"
      ]
     },
     "execution_count": 22,
     "metadata": {},
     "output_type": "execute_result"
    },
    {
     "data": {
      "image/png": "[encoded data removed]",
      "text/plain": [
       "<matplotlib.figure.Figure at 0x107e88810>"
      ]
     },
     "metadata": {},
     "output_type": "display_data"
    },
    {
     "data": {
      "image/png": "[encoded data removed]",
      "text/plain": [
       "<matplotlib.figure.Figure at 0x107e93310>"
      ]
     },
     "metadata": {},
     "output_type": "display_data"
    },
    {
     "data": {
      "image/png": "[encoded data removed]",
      "text/plain": [
       "<matplotlib.figure.Figure at 0x107e4ff90>"
      ]
     },
     "metadata": {},
     "output_type": "display_data"
    }
   ],
   "source": [
    "watersheds = [[None] * len(heights) for x in range(len(heights))]\n",
    "slopes = [[-1] * len(heights) for x in range(len(heights))]\n",
    "positions = initialize_positions(heights)\n",
    "main()\n",
    "plt.figure()\n",
    "plt.imshow(heights , interpolation='nearest', cmap='jet')\n",
    "plt.rcParams['figure.figsize'] = (20.0, 8.0)\n",
    "plt.title('heights')\n",
    "plt.figure()\n",
    "plt.imshow(slopes , interpolation='nearest', cmap='jet')\n",
    "plt.title('slopes')\n",
    "plt.figure()\n",
    "plt.imshow(watersheds , interpolation='nearest', cmap='jet')\n",
    "plt.title('watersheds')"
   ]
  },
  {
   "cell_type": "markdown",
   "metadata": {
    "collapsed": true
   },
   "source": [
    "It becomes apparent in this case that we have the deepest blue represent the deepest well. This is because we sorted the positions by height at the beginning. It's interesting to see the high altitude lakes that emerge: they make me think of Lake Tana in Ethiopia, the source of the Blue Nile, which is the final destination of a watershed that spans a big part of the Ethiopian Plateau. Please feel free to run this python notebook yourself in order to see what kind of interesting pattern emerges in your random landscape. "
   ]
  },
  {
   "cell_type": "code",
   "execution_count": null,
   "metadata": {
    "collapsed": true
   },
   "outputs": [],
   "source": []
  }
 ],
 "metadata": {
  "kernelspec": {
   "display_name": "Python 2",
   "language": "python",
   "name": "python2"
  },
  "language_info": {
   "codemirror_mode": {
    "name": "ipython",
    "version": 2
   },
   "file_extension": ".py",
   "mimetype": "text/x-python",
   "name": "python",
   "nbconvert_exporter": "python",
   "pygments_lexer": "ipython2",
   "version": "2.7.6"
  }
 },
 "nbformat": 4,
 "nbformat_minor": 0
}
